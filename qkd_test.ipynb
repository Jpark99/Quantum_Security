{
 "cells": [
  {
   "cell_type": "code",
   "execution_count": 58,
   "metadata": {},
   "outputs": [],
   "source": [
    "from qiskit import QuantumCircuit, Aer, transpile\n",
    "from qiskit.visualization import plot_histogram, plot_bloch_multivector\n",
    "from numpy.random import randint\n",
    "import numpy as np\n",
    "\n",
    "\n",
    "def encode_message(bits, bases, n):\n",
    "    message = []\n",
    "    for i in range(n):\n",
    "        qc = QuantumCircuit(1,1)\n",
    "        if bases[i] == 0: # Prepare qubit in Z-basis\n",
    "            if bits[i] == 0:\n",
    "                pass \n",
    "            else:\n",
    "                qc.x(0)\n",
    "        else: # Prepare qubit in X-basis\n",
    "            if bits[i] == 0:\n",
    "                qc.h(0)\n",
    "            else:\n",
    "                qc.x(0)\n",
    "                qc.h(0)\n",
    "        qc.barrier()\n",
    "        message.append(qc)\n",
    "    return message\n",
    "\n",
    "\n",
    "\n",
    "def measure_message(message, bases, n):\n",
    "    backend = Aer.get_backend('aer_simulator')\n",
    "    measurements = []\n",
    "    for q in range(n):\n",
    "        if bases[q] == 0: # measuring in Z-basis\n",
    "            message[q].measure(0,0)\n",
    "        if bases[q] == 1: # measuring in X-basis\n",
    "            message[q].h(0)\n",
    "            message[q].measure(0,0)\n",
    "        aer_sim = Aer.get_backend('aer_simulator')\n",
    "        result = aer_sim.run(message[q], shots=1, memory=True).result()\n",
    "        measured_bit = int(result.get_memory()[0])\n",
    "        measurements.append(measured_bit)\n",
    "    return measurements\n",
    "\n",
    "def remove_garbage(a_bases, b_bases, bits, n):\n",
    "    good_bits = []\n",
    "    for q in range(n):\n",
    "        if a_bases[q] == b_bases[q]:\n",
    "            # If both used the same basis, add\n",
    "            # this to the list of 'good' bits\n",
    "            good_bits.append(bits[q])\n",
    "    return good_bits\n",
    "\n",
    "def sample_bits(message, bits, selection, print):\n",
    "    sample = []\n",
    "    for i in selection:\n",
    "        # use np.mod to make sure the\n",
    "        # bit we sample is always in \n",
    "        # the list range\n",
    "        i = np.mod(i, len(bits))\n",
    "        # pop(i) removes the element of the\n",
    "        # list at index 'i'\n",
    "        if (print):\n",
    "            display(message[i].draw())\n",
    "        sample.append(bits.pop(i))\n",
    "    return sample\n",
    "\n",
    "def run(seed, n, sample_size, display_bit, eve):\n",
    "    np.random.seed(seed=seed)\n",
    "\n",
    "    ## Step 1\n",
    "    # Alice generates bits\n",
    "    alice_bits = randint(2, size=n)\n",
    "\n",
    "    ## Step 2\n",
    "    # Create an array to tell us which qubits\n",
    "    # are encoded in which bases\n",
    "    alice_bases = randint(2, size=n)\n",
    "    message = encode_message(alice_bits, alice_bases, n)\n",
    "    print(\"Initial message qubit\")\n",
    "    display(message[display_bit].draw())\n",
    "    ## Interception!!\n",
    "    if (eve):\n",
    "        eve_bases = randint(2, size=n)\n",
    "        intercepted_message = measure_message(message, eve_bases, n)\n",
    "        print(\"After Eve's measurement\")\n",
    "        display(message[display_bit].draw())\n",
    "    ## Step 3\n",
    "    # Decide which basis to measure in:\n",
    "    bob_bases = randint(2, size=n)\n",
    "    bob_results = measure_message(message, bob_bases, n)\n",
    "    print(\"After Bob's measurement\")\n",
    "    display(message[display_bit].draw())\n",
    "    ## Step 4\n",
    "    alice_key = remove_garbage(alice_bases, bob_bases, alice_bits, n)\n",
    "    bob_key = remove_garbage(alice_bases, bob_bases, bob_results, n)\n",
    "    print(\"alice_key = \",alice_key)\n",
    "    print(\"bob_key = \", bob_key)\n",
    "\n",
    "    ## Step 5\n",
    "    bit_selection = randint(n, size=sample_size)\n",
    "\n",
    "    bob_sample = sample_bits(message, bob_key, bit_selection , 1)\n",
    "    alice_sample = sample_bits(message, alice_key, bit_selection, 0)\n",
    "    print(\"alice_sample = \"+ str(alice_sample))\n",
    "    print(\"  bob_sample = \" + str(bob_sample))\n",
    "    print(\"Interception detected: \", bob_sample != alice_sample)\n",
    "    \n"
   ]
  },
  {
   "cell_type": "code",
   "execution_count": 62,
   "metadata": {},
   "outputs": [
    {
     "name": "stdout",
     "output_type": "stream",
     "text": [
      "Initial message qubit\n"
     ]
    },
    {
     "data": {
      "text/html": [
       "<pre style=\"word-wrap: normal;white-space: pre;background: #fff0;line-height: 1.1;font-family: &quot;Courier New&quot;,Courier,monospace\">     ┌───┐ ░ \n",
       "  q: ┤ X ├─░─\n",
       "     └───┘ ░ \n",
       "c: 1/════════\n",
       "             </pre>"
      ],
      "text/plain": [
       "     ┌───┐ ░ \n",
       "  q: ┤ X ├─░─\n",
       "     └───┘ ░ \n",
       "c: 1/════════\n",
       "             "
      ]
     },
     "metadata": {},
     "output_type": "display_data"
    },
    {
     "name": "stdout",
     "output_type": "stream",
     "text": [
      "After Bob's measurement\n"
     ]
    },
    {
     "data": {
      "text/html": [
       "<pre style=\"word-wrap: normal;white-space: pre;background: #fff0;line-height: 1.1;font-family: &quot;Courier New&quot;,Courier,monospace\">     ┌───┐ ░ ┌─┐\n",
       "  q: ┤ X ├─░─┤M├\n",
       "     └───┘ ░ └╥┘\n",
       "c: 1/═════════╩═\n",
       "              0 </pre>"
      ],
      "text/plain": [
       "     ┌───┐ ░ ┌─┐\n",
       "  q: ┤ X ├─░─┤M├\n",
       "     └───┘ ░ └╥┘\n",
       "c: 1/═════════╩═\n",
       "              0 "
      ]
     },
     "metadata": {},
     "output_type": "display_data"
    },
    {
     "name": "stdout",
     "output_type": "stream",
     "text": [
      "alice_key =  [1, 1, 0, 1, 0, 1, 1, 0, 0, 0, 1, 1, 1, 0, 1, 1, 0, 1, 1, 0, 0, 0, 1, 1, 0, 1, 1, 1, 1, 1, 1, 0, 1, 0, 0, 1, 1, 0, 1, 0, 0, 1, 0, 0, 0, 1, 0]\n",
      "bob_key =  [1, 1, 0, 1, 0, 1, 1, 0, 0, 0, 1, 1, 1, 0, 1, 1, 0, 1, 1, 0, 0, 0, 1, 1, 0, 1, 1, 1, 1, 1, 1, 0, 1, 0, 0, 1, 1, 0, 1, 0, 0, 1, 0, 0, 0, 1, 0]\n"
     ]
    },
    {
     "data": {
      "text/html": [
       "<pre style=\"word-wrap: normal;white-space: pre;background: #fff0;line-height: 1.1;font-family: &quot;Courier New&quot;,Courier,monospace\">      ░ ┌─┐\n",
       "  q: ─░─┤M├\n",
       "      ░ └╥┘\n",
       "c: 1/════╩═\n",
       "         0 </pre>"
      ],
      "text/plain": [
       "      ░ ┌─┐\n",
       "  q: ─░─┤M├\n",
       "      ░ └╥┘\n",
       "c: 1/════╩═\n",
       "         0 "
      ]
     },
     "metadata": {},
     "output_type": "display_data"
    },
    {
     "data": {
      "text/html": [
       "<pre style=\"word-wrap: normal;white-space: pre;background: #fff0;line-height: 1.1;font-family: &quot;Courier New&quot;,Courier,monospace\">     ┌───┐ ░ ┌───┐┌─┐\n",
       "  q: ┤ X ├─░─┤ H ├┤M├\n",
       "     └───┘ ░ └───┘└╥┘\n",
       "c: 1/══════════════╩═\n",
       "                   0 </pre>"
      ],
      "text/plain": [
       "     ┌───┐ ░ ┌───┐┌─┐\n",
       "  q: ┤ X ├─░─┤ H ├┤M├\n",
       "     └───┘ ░ └───┘└╥┘\n",
       "c: 1/══════════════╩═\n",
       "                   0 "
      ]
     },
     "metadata": {},
     "output_type": "display_data"
    },
    {
     "data": {
      "text/html": [
       "<pre style=\"word-wrap: normal;white-space: pre;background: #fff0;line-height: 1.1;font-family: &quot;Courier New&quot;,Courier,monospace\">     ┌───┐ ░ ┌───┐┌─┐\n",
       "  q: ┤ X ├─░─┤ H ├┤M├\n",
       "     └───┘ ░ └───┘└╥┘\n",
       "c: 1/══════════════╩═\n",
       "                   0 </pre>"
      ],
      "text/plain": [
       "     ┌───┐ ░ ┌───┐┌─┐\n",
       "  q: ┤ X ├─░─┤ H ├┤M├\n",
       "     └───┘ ░ └───┘└╥┘\n",
       "c: 1/══════════════╩═\n",
       "                   0 "
      ]
     },
     "metadata": {},
     "output_type": "display_data"
    },
    {
     "data": {
      "text/html": [
       "<pre style=\"word-wrap: normal;white-space: pre;background: #fff0;line-height: 1.1;font-family: &quot;Courier New&quot;,Courier,monospace\">     ┌───┐ ░ ┌─┐\n",
       "  q: ┤ H ├─░─┤M├\n",
       "     └───┘ ░ └╥┘\n",
       "c: 1/═════════╩═\n",
       "              0 </pre>"
      ],
      "text/plain": [
       "     ┌───┐ ░ ┌─┐\n",
       "  q: ┤ H ├─░─┤M├\n",
       "     └───┘ ░ └╥┘\n",
       "c: 1/═════════╩═\n",
       "              0 "
      ]
     },
     "metadata": {},
     "output_type": "display_data"
    },
    {
     "data": {
      "text/html": [
       "<pre style=\"word-wrap: normal;white-space: pre;background: #fff0;line-height: 1.1;font-family: &quot;Courier New&quot;,Courier,monospace\">     ┌───┐ ░ ┌───┐┌─┐\n",
       "  q: ┤ H ├─░─┤ H ├┤M├\n",
       "     └───┘ ░ └───┘└╥┘\n",
       "c: 1/══════════════╩═\n",
       "                   0 </pre>"
      ],
      "text/plain": [
       "     ┌───┐ ░ ┌───┐┌─┐\n",
       "  q: ┤ H ├─░─┤ H ├┤M├\n",
       "     └───┘ ░ └───┘└╥┘\n",
       "c: 1/══════════════╩═\n",
       "                   0 "
      ]
     },
     "metadata": {},
     "output_type": "display_data"
    },
    {
     "data": {
      "text/html": [
       "<pre style=\"word-wrap: normal;white-space: pre;background: #fff0;line-height: 1.1;font-family: &quot;Courier New&quot;,Courier,monospace\">     ┌───┐ ░ ┌───┐┌─┐\n",
       "  q: ┤ X ├─░─┤ H ├┤M├\n",
       "     └───┘ ░ └───┘└╥┘\n",
       "c: 1/══════════════╩═\n",
       "                   0 </pre>"
      ],
      "text/plain": [
       "     ┌───┐ ░ ┌───┐┌─┐\n",
       "  q: ┤ X ├─░─┤ H ├┤M├\n",
       "     └───┘ ░ └───┘└╥┘\n",
       "c: 1/══════════════╩═\n",
       "                   0 "
      ]
     },
     "metadata": {},
     "output_type": "display_data"
    },
    {
     "data": {
      "text/html": [
       "<pre style=\"word-wrap: normal;white-space: pre;background: #fff0;line-height: 1.1;font-family: &quot;Courier New&quot;,Courier,monospace\">      ░ ┌───┐┌─┐\n",
       "  q: ─░─┤ H ├┤M├\n",
       "      ░ └───┘└╥┘\n",
       "c: 1/═════════╩═\n",
       "              0 </pre>"
      ],
      "text/plain": [
       "      ░ ┌───┐┌─┐\n",
       "  q: ─░─┤ H ├┤M├\n",
       "      ░ └───┘└╥┘\n",
       "c: 1/═════════╩═\n",
       "              0 "
      ]
     },
     "metadata": {},
     "output_type": "display_data"
    },
    {
     "data": {
      "text/html": [
       "<pre style=\"word-wrap: normal;white-space: pre;background: #fff0;line-height: 1.1;font-family: &quot;Courier New&quot;,Courier,monospace\">     ┌───┐┌───┐ ░ ┌─┐\n",
       "  q: ┤ X ├┤ H ├─░─┤M├\n",
       "     └───┘└───┘ ░ └╥┘\n",
       "c: 1/══════════════╩═\n",
       "                   0 </pre>"
      ],
      "text/plain": [
       "     ┌───┐┌───┐ ░ ┌─┐\n",
       "  q: ┤ X ├┤ H ├─░─┤M├\n",
       "     └───┘└───┘ ░ └╥┘\n",
       "c: 1/══════════════╩═\n",
       "                   0 "
      ]
     },
     "metadata": {},
     "output_type": "display_data"
    },
    {
     "data": {
      "text/html": [
       "<pre style=\"word-wrap: normal;white-space: pre;background: #fff0;line-height: 1.1;font-family: &quot;Courier New&quot;,Courier,monospace\">      ░ ┌───┐┌─┐\n",
       "  q: ─░─┤ H ├┤M├\n",
       "      ░ └───┘└╥┘\n",
       "c: 1/═════════╩═\n",
       "              0 </pre>"
      ],
      "text/plain": [
       "      ░ ┌───┐┌─┐\n",
       "  q: ─░─┤ H ├┤M├\n",
       "      ░ └───┘└╥┘\n",
       "c: 1/═════════╩═\n",
       "              0 "
      ]
     },
     "metadata": {},
     "output_type": "display_data"
    },
    {
     "data": {
      "text/html": [
       "<pre style=\"word-wrap: normal;white-space: pre;background: #fff0;line-height: 1.1;font-family: &quot;Courier New&quot;,Courier,monospace\">      ░ ┌───┐┌─┐\n",
       "  q: ─░─┤ H ├┤M├\n",
       "      ░ └───┘└╥┘\n",
       "c: 1/═════════╩═\n",
       "              0 </pre>"
      ],
      "text/plain": [
       "      ░ ┌───┐┌─┐\n",
       "  q: ─░─┤ H ├┤M├\n",
       "      ░ └───┘└╥┘\n",
       "c: 1/═════════╩═\n",
       "              0 "
      ]
     },
     "metadata": {},
     "output_type": "display_data"
    },
    {
     "data": {
      "text/html": [
       "<pre style=\"word-wrap: normal;white-space: pre;background: #fff0;line-height: 1.1;font-family: &quot;Courier New&quot;,Courier,monospace\">      ░ ┌───┐┌─┐\n",
       "  q: ─░─┤ H ├┤M├\n",
       "      ░ └───┘└╥┘\n",
       "c: 1/═════════╩═\n",
       "              0 </pre>"
      ],
      "text/plain": [
       "      ░ ┌───┐┌─┐\n",
       "  q: ─░─┤ H ├┤M├\n",
       "      ░ └───┘└╥┘\n",
       "c: 1/═════════╩═\n",
       "              0 "
      ]
     },
     "metadata": {},
     "output_type": "display_data"
    },
    {
     "data": {
      "text/html": [
       "<pre style=\"word-wrap: normal;white-space: pre;background: #fff0;line-height: 1.1;font-family: &quot;Courier New&quot;,Courier,monospace\">      ░ ┌───┐┌─┐\n",
       "  q: ─░─┤ H ├┤M├\n",
       "      ░ └───┘└╥┘\n",
       "c: 1/═════════╩═\n",
       "              0 </pre>"
      ],
      "text/plain": [
       "      ░ ┌───┐┌─┐\n",
       "  q: ─░─┤ H ├┤M├\n",
       "      ░ └───┘└╥┘\n",
       "c: 1/═════════╩═\n",
       "              0 "
      ]
     },
     "metadata": {},
     "output_type": "display_data"
    },
    {
     "data": {
      "text/html": [
       "<pre style=\"word-wrap: normal;white-space: pre;background: #fff0;line-height: 1.1;font-family: &quot;Courier New&quot;,Courier,monospace\">     ┌───┐ ░ ┌───┐┌─┐\n",
       "  q: ┤ X ├─░─┤ H ├┤M├\n",
       "     └───┘ ░ └───┘└╥┘\n",
       "c: 1/══════════════╩═\n",
       "                   0 </pre>"
      ],
      "text/plain": [
       "     ┌───┐ ░ ┌───┐┌─┐\n",
       "  q: ┤ X ├─░─┤ H ├┤M├\n",
       "     └───┘ ░ └───┘└╥┘\n",
       "c: 1/══════════════╩═\n",
       "                   0 "
      ]
     },
     "metadata": {},
     "output_type": "display_data"
    },
    {
     "data": {
      "text/html": [
       "<pre style=\"word-wrap: normal;white-space: pre;background: #fff0;line-height: 1.1;font-family: &quot;Courier New&quot;,Courier,monospace\">      ░ ┌───┐┌─┐\n",
       "  q: ─░─┤ H ├┤M├\n",
       "      ░ └───┘└╥┘\n",
       "c: 1/═════════╩═\n",
       "              0 </pre>"
      ],
      "text/plain": [
       "      ░ ┌───┐┌─┐\n",
       "  q: ─░─┤ H ├┤M├\n",
       "      ░ └───┘└╥┘\n",
       "c: 1/═════════╩═\n",
       "              0 "
      ]
     },
     "metadata": {},
     "output_type": "display_data"
    },
    {
     "data": {
      "text/html": [
       "<pre style=\"word-wrap: normal;white-space: pre;background: #fff0;line-height: 1.1;font-family: &quot;Courier New&quot;,Courier,monospace\">     ┌───┐┌───┐ ░ ┌─┐\n",
       "  q: ┤ X ├┤ H ├─░─┤M├\n",
       "     └───┘└───┘ ░ └╥┘\n",
       "c: 1/══════════════╩═\n",
       "                   0 </pre>"
      ],
      "text/plain": [
       "     ┌───┐┌───┐ ░ ┌─┐\n",
       "  q: ┤ X ├┤ H ├─░─┤M├\n",
       "     └───┘└───┘ ░ └╥┘\n",
       "c: 1/══════════════╩═\n",
       "                   0 "
      ]
     },
     "metadata": {},
     "output_type": "display_data"
    },
    {
     "data": {
      "text/html": [
       "<pre style=\"word-wrap: normal;white-space: pre;background: #fff0;line-height: 1.1;font-family: &quot;Courier New&quot;,Courier,monospace\">     ┌───┐ ░ ┌─┐\n",
       "  q: ┤ H ├─░─┤M├\n",
       "     └───┘ ░ └╥┘\n",
       "c: 1/═════════╩═\n",
       "              0 </pre>"
      ],
      "text/plain": [
       "     ┌───┐ ░ ┌─┐\n",
       "  q: ┤ H ├─░─┤M├\n",
       "     └───┘ ░ └╥┘\n",
       "c: 1/═════════╩═\n",
       "              0 "
      ]
     },
     "metadata": {},
     "output_type": "display_data"
    },
    {
     "data": {
      "text/html": [
       "<pre style=\"word-wrap: normal;white-space: pre;background: #fff0;line-height: 1.1;font-family: &quot;Courier New&quot;,Courier,monospace\">     ┌───┐┌───┐ ░ ┌─┐\n",
       "  q: ┤ X ├┤ H ├─░─┤M├\n",
       "     └───┘└───┘ ░ └╥┘\n",
       "c: 1/══════════════╩═\n",
       "                   0 </pre>"
      ],
      "text/plain": [
       "     ┌───┐┌───┐ ░ ┌─┐\n",
       "  q: ┤ X ├┤ H ├─░─┤M├\n",
       "     └───┘└───┘ ░ └╥┘\n",
       "c: 1/══════════════╩═\n",
       "                   0 "
      ]
     },
     "metadata": {},
     "output_type": "display_data"
    },
    {
     "data": {
      "text/html": [
       "<pre style=\"word-wrap: normal;white-space: pre;background: #fff0;line-height: 1.1;font-family: &quot;Courier New&quot;,Courier,monospace\">     ┌───┐ ░ ┌───┐┌─┐\n",
       "  q: ┤ X ├─░─┤ H ├┤M├\n",
       "     └───┘ ░ └───┘└╥┘\n",
       "c: 1/══════════════╩═\n",
       "                   0 </pre>"
      ],
      "text/plain": [
       "     ┌───┐ ░ ┌───┐┌─┐\n",
       "  q: ┤ X ├─░─┤ H ├┤M├\n",
       "     └───┘ ░ └───┘└╥┘\n",
       "c: 1/══════════════╩═\n",
       "                   0 "
      ]
     },
     "metadata": {},
     "output_type": "display_data"
    },
    {
     "data": {
      "text/html": [
       "<pre style=\"word-wrap: normal;white-space: pre;background: #fff0;line-height: 1.1;font-family: &quot;Courier New&quot;,Courier,monospace\">     ┌───┐ ░ ┌───┐┌─┐\n",
       "  q: ┤ X ├─░─┤ H ├┤M├\n",
       "     └───┘ ░ └───┘└╥┘\n",
       "c: 1/══════════════╩═\n",
       "                   0 </pre>"
      ],
      "text/plain": [
       "     ┌───┐ ░ ┌───┐┌─┐\n",
       "  q: ┤ X ├─░─┤ H ├┤M├\n",
       "     └───┘ ░ └───┘└╥┘\n",
       "c: 1/══════════════╩═\n",
       "                   0 "
      ]
     },
     "metadata": {},
     "output_type": "display_data"
    },
    {
     "data": {
      "text/html": [
       "<pre style=\"word-wrap: normal;white-space: pre;background: #fff0;line-height: 1.1;font-family: &quot;Courier New&quot;,Courier,monospace\">      ░ ┌───┐┌─┐\n",
       "  q: ─░─┤ H ├┤M├\n",
       "      ░ └───┘└╥┘\n",
       "c: 1/═════════╩═\n",
       "              0 </pre>"
      ],
      "text/plain": [
       "      ░ ┌───┐┌─┐\n",
       "  q: ─░─┤ H ├┤M├\n",
       "      ░ └───┘└╥┘\n",
       "c: 1/═════════╩═\n",
       "              0 "
      ]
     },
     "metadata": {},
     "output_type": "display_data"
    },
    {
     "data": {
      "text/html": [
       "<pre style=\"word-wrap: normal;white-space: pre;background: #fff0;line-height: 1.1;font-family: &quot;Courier New&quot;,Courier,monospace\">     ┌───┐ ░ ┌─┐\n",
       "  q: ┤ H ├─░─┤M├\n",
       "     └───┘ ░ └╥┘\n",
       "c: 1/═════════╩═\n",
       "              0 </pre>"
      ],
      "text/plain": [
       "     ┌───┐ ░ ┌─┐\n",
       "  q: ┤ H ├─░─┤M├\n",
       "     └───┘ ░ └╥┘\n",
       "c: 1/═════════╩═\n",
       "              0 "
      ]
     },
     "metadata": {},
     "output_type": "display_data"
    },
    {
     "data": {
      "text/html": [
       "<pre style=\"word-wrap: normal;white-space: pre;background: #fff0;line-height: 1.1;font-family: &quot;Courier New&quot;,Courier,monospace\">     ┌───┐ ░ ┌───┐┌─┐\n",
       "  q: ┤ X ├─░─┤ H ├┤M├\n",
       "     └───┘ ░ └───┘└╥┘\n",
       "c: 1/══════════════╩═\n",
       "                   0 </pre>"
      ],
      "text/plain": [
       "     ┌───┐ ░ ┌───┐┌─┐\n",
       "  q: ┤ X ├─░─┤ H ├┤M├\n",
       "     └───┘ ░ └───┘└╥┘\n",
       "c: 1/══════════════╩═\n",
       "                   0 "
      ]
     },
     "metadata": {},
     "output_type": "display_data"
    },
    {
     "data": {
      "text/html": [
       "<pre style=\"word-wrap: normal;white-space: pre;background: #fff0;line-height: 1.1;font-family: &quot;Courier New&quot;,Courier,monospace\">     ┌───┐ ░ ┌─┐\n",
       "  q: ┤ X ├─░─┤M├\n",
       "     └───┘ ░ └╥┘\n",
       "c: 1/═════════╩═\n",
       "              0 </pre>"
      ],
      "text/plain": [
       "     ┌───┐ ░ ┌─┐\n",
       "  q: ┤ X ├─░─┤M├\n",
       "     └───┘ ░ └╥┘\n",
       "c: 1/═════════╩═\n",
       "              0 "
      ]
     },
     "metadata": {},
     "output_type": "display_data"
    },
    {
     "data": {
      "text/html": [
       "<pre style=\"word-wrap: normal;white-space: pre;background: #fff0;line-height: 1.1;font-family: &quot;Courier New&quot;,Courier,monospace\">     ┌───┐ ░ ┌───┐┌─┐\n",
       "  q: ┤ X ├─░─┤ H ├┤M├\n",
       "     └───┘ ░ └───┘└╥┘\n",
       "c: 1/══════════════╩═\n",
       "                   0 </pre>"
      ],
      "text/plain": [
       "     ┌───┐ ░ ┌───┐┌─┐\n",
       "  q: ┤ X ├─░─┤ H ├┤M├\n",
       "     └───┘ ░ └───┘└╥┘\n",
       "c: 1/══════════════╩═\n",
       "                   0 "
      ]
     },
     "metadata": {},
     "output_type": "display_data"
    },
    {
     "data": {
      "text/html": [
       "<pre style=\"word-wrap: normal;white-space: pre;background: #fff0;line-height: 1.1;font-family: &quot;Courier New&quot;,Courier,monospace\">     ┌───┐ ░ ┌───┐┌─┐\n",
       "  q: ┤ H ├─░─┤ H ├┤M├\n",
       "     └───┘ ░ └───┘└╥┘\n",
       "c: 1/══════════════╩═\n",
       "                   0 </pre>"
      ],
      "text/plain": [
       "     ┌───┐ ░ ┌───┐┌─┐\n",
       "  q: ┤ H ├─░─┤ H ├┤M├\n",
       "     └───┘ ░ └───┘└╥┘\n",
       "c: 1/══════════════╩═\n",
       "                   0 "
      ]
     },
     "metadata": {},
     "output_type": "display_data"
    },
    {
     "name": "stdout",
     "output_type": "stream",
     "text": [
      "alice_sample = [0, 0, 1, 0, 1, 1, 0, 1, 1, 0, 1, 1, 1, 1, 1, 1, 0, 1, 0, 1, 1, 1, 0, 1, 1]\n",
      "  bob_sample = [0, 0, 1, 0, 1, 1, 0, 1, 1, 0, 1, 1, 1, 1, 1, 1, 0, 1, 0, 1, 1, 1, 0, 1, 1]\n",
      "Interception detected:  False\n"
     ]
    }
   ],
   "source": [
    "\n",
    "seed = randint(9949)\n",
    "size = 100\n",
    "sample = 25\n",
    "display_bit = randint(size)\n",
    "eve = 0\n",
    "\n",
    "run(seed, size, sample, display_bit, eve)"
   ]
  },
  {
   "cell_type": "code",
   "execution_count": 63,
   "metadata": {},
   "outputs": [
    {
     "name": "stdout",
     "output_type": "stream",
     "text": [
      "Initial message qubit\n"
     ]
    },
    {
     "data": {
      "text/html": [
       "<pre style=\"word-wrap: normal;white-space: pre;background: #fff0;line-height: 1.1;font-family: &quot;Courier New&quot;,Courier,monospace\">     ┌───┐ ░ \n",
       "  q: ┤ X ├─░─\n",
       "     └───┘ ░ \n",
       "c: 1/════════\n",
       "             </pre>"
      ],
      "text/plain": [
       "     ┌───┐ ░ \n",
       "  q: ┤ X ├─░─\n",
       "     └───┘ ░ \n",
       "c: 1/════════\n",
       "             "
      ]
     },
     "metadata": {},
     "output_type": "display_data"
    },
    {
     "name": "stdout",
     "output_type": "stream",
     "text": [
      "After Eve's measurement\n"
     ]
    },
    {
     "data": {
      "text/html": [
       "<pre style=\"word-wrap: normal;white-space: pre;background: #fff0;line-height: 1.1;font-family: &quot;Courier New&quot;,Courier,monospace\">     ┌───┐ ░ ┌─┐\n",
       "  q: ┤ X ├─░─┤M├\n",
       "     └───┘ ░ └╥┘\n",
       "c: 1/═════════╩═\n",
       "              0 </pre>"
      ],
      "text/plain": [
       "     ┌───┐ ░ ┌─┐\n",
       "  q: ┤ X ├─░─┤M├\n",
       "     └───┘ ░ └╥┘\n",
       "c: 1/═════════╩═\n",
       "              0 "
      ]
     },
     "metadata": {},
     "output_type": "display_data"
    },
    {
     "name": "stdout",
     "output_type": "stream",
     "text": [
      "After Bob's measurement\n"
     ]
    },
    {
     "data": {
      "text/html": [
       "<pre style=\"word-wrap: normal;white-space: pre;background: #fff0;line-height: 1.1;font-family: &quot;Courier New&quot;,Courier,monospace\">     ┌───┐ ░ ┌─┐┌─┐\n",
       "  q: ┤ X ├─░─┤M├┤M├\n",
       "     └───┘ ░ └╥┘└╥┘\n",
       "c: 1/═════════╩══╩═\n",
       "              0  0 </pre>"
      ],
      "text/plain": [
       "     ┌───┐ ░ ┌─┐┌─┐\n",
       "  q: ┤ X ├─░─┤M├┤M├\n",
       "     └───┘ ░ └╥┘└╥┘\n",
       "c: 1/═════════╩══╩═\n",
       "              0  0 "
      ]
     },
     "metadata": {},
     "output_type": "display_data"
    },
    {
     "name": "stdout",
     "output_type": "stream",
     "text": [
      "alice_key =  [1, 1, 0, 1, 0, 0, 1, 1, 1, 0, 0, 1, 1, 0, 1, 1, 0, 0, 0, 1, 1, 0, 0, 1, 0, 1, 1, 1, 1, 1, 0, 1, 1, 1, 1, 0, 1, 0, 0, 1, 1, 1, 1, 1, 0, 0, 0, 0, 1, 0, 0, 0]\n",
      "bob_key =  [0, 1, 1, 0, 0, 1, 1, 1, 0, 1, 0, 0, 0, 1, 1, 1, 1, 1, 0, 0, 0, 0, 1, 0, 0, 1, 1, 1, 1, 1, 0, 1, 1, 1, 1, 0, 1, 0, 1, 0, 1, 1, 1, 1, 0, 0, 1, 0, 1, 0, 0, 0]\n"
     ]
    },
    {
     "data": {
      "text/html": [
       "<pre style=\"word-wrap: normal;white-space: pre;background: #fff0;line-height: 1.1;font-family: &quot;Courier New&quot;,Courier,monospace\">      ░ ┌─┐┌───┐┌─┐\n",
       "  q: ─░─┤M├┤ H ├┤M├\n",
       "      ░ └╥┘└───┘└╥┘\n",
       "c: 1/════╩═══════╩═\n",
       "         0       0 </pre>"
      ],
      "text/plain": [
       "      ░ ┌─┐┌───┐┌─┐\n",
       "  q: ─░─┤M├┤ H ├┤M├\n",
       "      ░ └╥┘└───┘└╥┘\n",
       "c: 1/════╩═══════╩═\n",
       "         0       0 "
      ]
     },
     "metadata": {},
     "output_type": "display_data"
    },
    {
     "data": {
      "text/html": [
       "<pre style=\"word-wrap: normal;white-space: pre;background: #fff0;line-height: 1.1;font-family: &quot;Courier New&quot;,Courier,monospace\">     ┌───┐ ░ ┌─┐┌───┐┌─┐\n",
       "  q: ┤ H ├─░─┤M├┤ H ├┤M├\n",
       "     └───┘ ░ └╥┘└───┘└╥┘\n",
       "c: 1/═════════╩═══════╩═\n",
       "              0       0 </pre>"
      ],
      "text/plain": [
       "     ┌───┐ ░ ┌─┐┌───┐┌─┐\n",
       "  q: ┤ H ├─░─┤M├┤ H ├┤M├\n",
       "     └───┘ ░ └╥┘└───┘└╥┘\n",
       "c: 1/═════════╩═══════╩═\n",
       "              0       0 "
      ]
     },
     "metadata": {},
     "output_type": "display_data"
    },
    {
     "data": {
      "text/html": [
       "<pre style=\"word-wrap: normal;white-space: pre;background: #fff0;line-height: 1.1;font-family: &quot;Courier New&quot;,Courier,monospace\">     ┌───┐ ░ ┌─┐┌─┐\n",
       "  q: ┤ H ├─░─┤M├┤M├\n",
       "     └───┘ ░ └╥┘└╥┘\n",
       "c: 1/═════════╩══╩═\n",
       "              0  0 </pre>"
      ],
      "text/plain": [
       "     ┌───┐ ░ ┌─┐┌─┐\n",
       "  q: ┤ H ├─░─┤M├┤M├\n",
       "     └───┘ ░ └╥┘└╥┘\n",
       "c: 1/═════════╩══╩═\n",
       "              0  0 "
      ]
     },
     "metadata": {},
     "output_type": "display_data"
    },
    {
     "data": {
      "text/html": [
       "<pre style=\"word-wrap: normal;white-space: pre;background: #fff0;line-height: 1.1;font-family: &quot;Courier New&quot;,Courier,monospace\">      ░ ┌─┐┌───┐┌─┐\n",
       "  q: ─░─┤M├┤ H ├┤M├\n",
       "      ░ └╥┘└───┘└╥┘\n",
       "c: 1/════╩═══════╩═\n",
       "         0       0 </pre>"
      ],
      "text/plain": [
       "      ░ ┌─┐┌───┐┌─┐\n",
       "  q: ─░─┤M├┤ H ├┤M├\n",
       "      ░ └╥┘└───┘└╥┘\n",
       "c: 1/════╩═══════╩═\n",
       "         0       0 "
      ]
     },
     "metadata": {},
     "output_type": "display_data"
    },
    {
     "data": {
      "text/html": [
       "<pre style=\"word-wrap: normal;white-space: pre;background: #fff0;line-height: 1.1;font-family: &quot;Courier New&quot;,Courier,monospace\">     ┌───┐┌───┐ ░ ┌─┐┌───┐┌─┐\n",
       "  q: ┤ X ├┤ H ├─░─┤M├┤ H ├┤M├\n",
       "     └───┘└───┘ ░ └╥┘└───┘└╥┘\n",
       "c: 1/══════════════╩═══════╩═\n",
       "                   0       0 </pre>"
      ],
      "text/plain": [
       "     ┌───┐┌───┐ ░ ┌─┐┌───┐┌─┐\n",
       "  q: ┤ X ├┤ H ├─░─┤M├┤ H ├┤M├\n",
       "     └───┘└───┘ ░ └╥┘└───┘└╥┘\n",
       "c: 1/══════════════╩═══════╩═\n",
       "                   0       0 "
      ]
     },
     "metadata": {},
     "output_type": "display_data"
    },
    {
     "data": {
      "text/html": [
       "<pre style=\"word-wrap: normal;white-space: pre;background: #fff0;line-height: 1.1;font-family: &quot;Courier New&quot;,Courier,monospace\">     ┌───┐ ░ ┌───┐┌─┐┌─┐\n",
       "  q: ┤ X ├─░─┤ H ├┤M├┤M├\n",
       "     └───┘ ░ └───┘└╥┘└╥┘\n",
       "c: 1/══════════════╩══╩═\n",
       "                   0  0 </pre>"
      ],
      "text/plain": [
       "     ┌───┐ ░ ┌───┐┌─┐┌─┐\n",
       "  q: ┤ X ├─░─┤ H ├┤M├┤M├\n",
       "     └───┘ ░ └───┘└╥┘└╥┘\n",
       "c: 1/══════════════╩══╩═\n",
       "                   0  0 "
      ]
     },
     "metadata": {},
     "output_type": "display_data"
    },
    {
     "data": {
      "text/html": [
       "<pre style=\"word-wrap: normal;white-space: pre;background: #fff0;line-height: 1.1;font-family: &quot;Courier New&quot;,Courier,monospace\">     ┌───┐┌───┐ ░ ┌───┐┌─┐┌─┐\n",
       "  q: ┤ X ├┤ H ├─░─┤ H ├┤M├┤M├\n",
       "     └───┘└───┘ ░ └───┘└╥┘└╥┘\n",
       "c: 1/═══════════════════╩══╩═\n",
       "                        0  0 </pre>"
      ],
      "text/plain": [
       "     ┌───┐┌───┐ ░ ┌───┐┌─┐┌─┐\n",
       "  q: ┤ X ├┤ H ├─░─┤ H ├┤M├┤M├\n",
       "     └───┘└───┘ ░ └───┘└╥┘└╥┘\n",
       "c: 1/═══════════════════╩══╩═\n",
       "                        0  0 "
      ]
     },
     "metadata": {},
     "output_type": "display_data"
    },
    {
     "data": {
      "text/html": [
       "<pre style=\"word-wrap: normal;white-space: pre;background: #fff0;line-height: 1.1;font-family: &quot;Courier New&quot;,Courier,monospace\">     ┌───┐┌───┐ ░ ┌───┐┌─┐┌─┐\n",
       "  q: ┤ X ├┤ H ├─░─┤ H ├┤M├┤M├\n",
       "     └───┘└───┘ ░ └───┘└╥┘└╥┘\n",
       "c: 1/═══════════════════╩══╩═\n",
       "                        0  0 </pre>"
      ],
      "text/plain": [
       "     ┌───┐┌───┐ ░ ┌───┐┌─┐┌─┐\n",
       "  q: ┤ X ├┤ H ├─░─┤ H ├┤M├┤M├\n",
       "     └───┘└───┘ ░ └───┘└╥┘└╥┘\n",
       "c: 1/═══════════════════╩══╩═\n",
       "                        0  0 "
      ]
     },
     "metadata": {},
     "output_type": "display_data"
    },
    {
     "data": {
      "text/html": [
       "<pre style=\"word-wrap: normal;white-space: pre;background: #fff0;line-height: 1.1;font-family: &quot;Courier New&quot;,Courier,monospace\">     ┌───┐┌───┐ ░ ┌─┐┌───┐┌─┐\n",
       "  q: ┤ X ├┤ H ├─░─┤M├┤ H ├┤M├\n",
       "     └───┘└───┘ ░ └╥┘└───┘└╥┘\n",
       "c: 1/══════════════╩═══════╩═\n",
       "                   0       0 </pre>"
      ],
      "text/plain": [
       "     ┌───┐┌───┐ ░ ┌─┐┌───┐┌─┐\n",
       "  q: ┤ X ├┤ H ├─░─┤M├┤ H ├┤M├\n",
       "     └───┘└───┘ ░ └╥┘└───┘└╥┘\n",
       "c: 1/══════════════╩═══════╩═\n",
       "                   0       0 "
      ]
     },
     "metadata": {},
     "output_type": "display_data"
    },
    {
     "data": {
      "text/html": [
       "<pre style=\"word-wrap: normal;white-space: pre;background: #fff0;line-height: 1.1;font-family: &quot;Courier New&quot;,Courier,monospace\">     ┌───┐ ░ ┌───┐┌─┐┌───┐┌─┐\n",
       "  q: ┤ H ├─░─┤ H ├┤M├┤ H ├┤M├\n",
       "     └───┘ ░ └───┘└╥┘└───┘└╥┘\n",
       "c: 1/══════════════╩═══════╩═\n",
       "                   0       0 </pre>"
      ],
      "text/plain": [
       "     ┌───┐ ░ ┌───┐┌─┐┌───┐┌─┐\n",
       "  q: ┤ H ├─░─┤ H ├┤M├┤ H ├┤M├\n",
       "     └───┘ ░ └───┘└╥┘└───┘└╥┘\n",
       "c: 1/══════════════╩═══════╩═\n",
       "                   0       0 "
      ]
     },
     "metadata": {},
     "output_type": "display_data"
    },
    {
     "data": {
      "text/html": [
       "<pre style=\"word-wrap: normal;white-space: pre;background: #fff0;line-height: 1.1;font-family: &quot;Courier New&quot;,Courier,monospace\">      ░ ┌─┐┌───┐┌─┐\n",
       "  q: ─░─┤M├┤ H ├┤M├\n",
       "      ░ └╥┘└───┘└╥┘\n",
       "c: 1/════╩═══════╩═\n",
       "         0       0 </pre>"
      ],
      "text/plain": [
       "      ░ ┌─┐┌───┐┌─┐\n",
       "  q: ─░─┤M├┤ H ├┤M├\n",
       "      ░ └╥┘└───┘└╥┘\n",
       "c: 1/════╩═══════╩═\n",
       "         0       0 "
      ]
     },
     "metadata": {},
     "output_type": "display_data"
    },
    {
     "data": {
      "text/html": [
       "<pre style=\"word-wrap: normal;white-space: pre;background: #fff0;line-height: 1.1;font-family: &quot;Courier New&quot;,Courier,monospace\">     ┌───┐┌───┐ ░ ┌─┐┌─┐\n",
       "  q: ┤ X ├┤ H ├─░─┤M├┤M├\n",
       "     └───┘└───┘ ░ └╥┘└╥┘\n",
       "c: 1/══════════════╩══╩═\n",
       "                   0  0 </pre>"
      ],
      "text/plain": [
       "     ┌───┐┌───┐ ░ ┌─┐┌─┐\n",
       "  q: ┤ X ├┤ H ├─░─┤M├┤M├\n",
       "     └───┘└───┘ ░ └╥┘└╥┘\n",
       "c: 1/══════════════╩══╩═\n",
       "                   0  0 "
      ]
     },
     "metadata": {},
     "output_type": "display_data"
    },
    {
     "data": {
      "text/html": [
       "<pre style=\"word-wrap: normal;white-space: pre;background: #fff0;line-height: 1.1;font-family: &quot;Courier New&quot;,Courier,monospace\">     ┌───┐ ░ ┌─┐┌─┐\n",
       "  q: ┤ H ├─░─┤M├┤M├\n",
       "     └───┘ ░ └╥┘└╥┘\n",
       "c: 1/═════════╩══╩═\n",
       "              0  0 </pre>"
      ],
      "text/plain": [
       "     ┌───┐ ░ ┌─┐┌─┐\n",
       "  q: ┤ H ├─░─┤M├┤M├\n",
       "     └───┘ ░ └╥┘└╥┘\n",
       "c: 1/═════════╩══╩═\n",
       "              0  0 "
      ]
     },
     "metadata": {},
     "output_type": "display_data"
    },
    {
     "data": {
      "text/html": [
       "<pre style=\"word-wrap: normal;white-space: pre;background: #fff0;line-height: 1.1;font-family: &quot;Courier New&quot;,Courier,monospace\">     ┌───┐ ░ ┌─┐┌─┐\n",
       "  q: ┤ H ├─░─┤M├┤M├\n",
       "     └───┘ ░ └╥┘└╥┘\n",
       "c: 1/═════════╩══╩═\n",
       "              0  0 </pre>"
      ],
      "text/plain": [
       "     ┌───┐ ░ ┌─┐┌─┐\n",
       "  q: ┤ H ├─░─┤M├┤M├\n",
       "     └───┘ ░ └╥┘└╥┘\n",
       "c: 1/═════════╩══╩═\n",
       "              0  0 "
      ]
     },
     "metadata": {},
     "output_type": "display_data"
    },
    {
     "data": {
      "text/html": [
       "<pre style=\"word-wrap: normal;white-space: pre;background: #fff0;line-height: 1.1;font-family: &quot;Courier New&quot;,Courier,monospace\">     ┌───┐ ░ ┌───┐┌─┐┌─┐\n",
       "  q: ┤ X ├─░─┤ H ├┤M├┤M├\n",
       "     └───┘ ░ └───┘└╥┘└╥┘\n",
       "c: 1/══════════════╩══╩═\n",
       "                   0  0 </pre>"
      ],
      "text/plain": [
       "     ┌───┐ ░ ┌───┐┌─┐┌─┐\n",
       "  q: ┤ X ├─░─┤ H ├┤M├┤M├\n",
       "     └───┘ ░ └───┘└╥┘└╥┘\n",
       "c: 1/══════════════╩══╩═\n",
       "                   0  0 "
      ]
     },
     "metadata": {},
     "output_type": "display_data"
    },
    {
     "data": {
      "text/html": [
       "<pre style=\"word-wrap: normal;white-space: pre;background: #fff0;line-height: 1.1;font-family: &quot;Courier New&quot;,Courier,monospace\">     ┌───┐ ░ ┌───┐┌─┐┌───┐┌─┐\n",
       "  q: ┤ H ├─░─┤ H ├┤M├┤ H ├┤M├\n",
       "     └───┘ ░ └───┘└╥┘└───┘└╥┘\n",
       "c: 1/══════════════╩═══════╩═\n",
       "                   0       0 </pre>"
      ],
      "text/plain": [
       "     ┌───┐ ░ ┌───┐┌─┐┌───┐┌─┐\n",
       "  q: ┤ H ├─░─┤ H ├┤M├┤ H ├┤M├\n",
       "     └───┘ ░ └───┘└╥┘└───┘└╥┘\n",
       "c: 1/══════════════╩═══════╩═\n",
       "                   0       0 "
      ]
     },
     "metadata": {},
     "output_type": "display_data"
    },
    {
     "data": {
      "text/html": [
       "<pre style=\"word-wrap: normal;white-space: pre;background: #fff0;line-height: 1.1;font-family: &quot;Courier New&quot;,Courier,monospace\">     ┌───┐┌───┐ ░ ┌───┐┌─┐┌───┐┌─┐\n",
       "  q: ┤ X ├┤ H ├─░─┤ H ├┤M├┤ H ├┤M├\n",
       "     └───┘└───┘ ░ └───┘└╥┘└───┘└╥┘\n",
       "c: 1/═══════════════════╩═══════╩═\n",
       "                        0       0 </pre>"
      ],
      "text/plain": [
       "     ┌───┐┌───┐ ░ ┌───┐┌─┐┌───┐┌─┐\n",
       "  q: ┤ X ├┤ H ├─░─┤ H ├┤M├┤ H ├┤M├\n",
       "     └───┘└───┘ ░ └───┘└╥┘└───┘└╥┘\n",
       "c: 1/═══════════════════╩═══════╩═\n",
       "                        0       0 "
      ]
     },
     "metadata": {},
     "output_type": "display_data"
    },
    {
     "data": {
      "text/html": [
       "<pre style=\"word-wrap: normal;white-space: pre;background: #fff0;line-height: 1.1;font-family: &quot;Courier New&quot;,Courier,monospace\">      ░ ┌───┐┌─┐┌───┐┌─┐\n",
       "  q: ─░─┤ H ├┤M├┤ H ├┤M├\n",
       "      ░ └───┘└╥┘└───┘└╥┘\n",
       "c: 1/═════════╩═══════╩═\n",
       "              0       0 </pre>"
      ],
      "text/plain": [
       "      ░ ┌───┐┌─┐┌───┐┌─┐\n",
       "  q: ─░─┤ H ├┤M├┤ H ├┤M├\n",
       "      ░ └───┘└╥┘└───┘└╥┘\n",
       "c: 1/═════════╩═══════╩═\n",
       "              0       0 "
      ]
     },
     "metadata": {},
     "output_type": "display_data"
    },
    {
     "data": {
      "text/html": [
       "<pre style=\"word-wrap: normal;white-space: pre;background: #fff0;line-height: 1.1;font-family: &quot;Courier New&quot;,Courier,monospace\">     ┌───┐ ░ ┌─┐┌─┐\n",
       "  q: ┤ X ├─░─┤M├┤M├\n",
       "     └───┘ ░ └╥┘└╥┘\n",
       "c: 1/═════════╩══╩═\n",
       "              0  0 </pre>"
      ],
      "text/plain": [
       "     ┌───┐ ░ ┌─┐┌─┐\n",
       "  q: ┤ X ├─░─┤M├┤M├\n",
       "     └───┘ ░ └╥┘└╥┘\n",
       "c: 1/═════════╩══╩═\n",
       "              0  0 "
      ]
     },
     "metadata": {},
     "output_type": "display_data"
    },
    {
     "data": {
      "text/html": [
       "<pre style=\"word-wrap: normal;white-space: pre;background: #fff0;line-height: 1.1;font-family: &quot;Courier New&quot;,Courier,monospace\">      ░ ┌─┐┌───┐┌─┐\n",
       "  q: ─░─┤M├┤ H ├┤M├\n",
       "      ░ └╥┘└───┘└╥┘\n",
       "c: 1/════╩═══════╩═\n",
       "         0       0 </pre>"
      ],
      "text/plain": [
       "      ░ ┌─┐┌───┐┌─┐\n",
       "  q: ─░─┤M├┤ H ├┤M├\n",
       "      ░ └╥┘└───┘└╥┘\n",
       "c: 1/════╩═══════╩═\n",
       "         0       0 "
      ]
     },
     "metadata": {},
     "output_type": "display_data"
    },
    {
     "data": {
      "text/html": [
       "<pre style=\"word-wrap: normal;white-space: pre;background: #fff0;line-height: 1.1;font-family: &quot;Courier New&quot;,Courier,monospace\">     ┌───┐┌───┐ ░ ┌─┐┌─┐\n",
       "  q: ┤ X ├┤ H ├─░─┤M├┤M├\n",
       "     └───┘└───┘ ░ └╥┘└╥┘\n",
       "c: 1/══════════════╩══╩═\n",
       "                   0  0 </pre>"
      ],
      "text/plain": [
       "     ┌───┐┌───┐ ░ ┌─┐┌─┐\n",
       "  q: ┤ X ├┤ H ├─░─┤M├┤M├\n",
       "     └───┘└───┘ ░ └╥┘└╥┘\n",
       "c: 1/══════════════╩══╩═\n",
       "                   0  0 "
      ]
     },
     "metadata": {},
     "output_type": "display_data"
    },
    {
     "data": {
      "text/html": [
       "<pre style=\"word-wrap: normal;white-space: pre;background: #fff0;line-height: 1.1;font-family: &quot;Courier New&quot;,Courier,monospace\">      ░ ┌─┐┌───┐┌─┐\n",
       "  q: ─░─┤M├┤ H ├┤M├\n",
       "      ░ └╥┘└───┘└╥┘\n",
       "c: 1/════╩═══════╩═\n",
       "         0       0 </pre>"
      ],
      "text/plain": [
       "      ░ ┌─┐┌───┐┌─┐\n",
       "  q: ─░─┤M├┤ H ├┤M├\n",
       "      ░ └╥┘└───┘└╥┘\n",
       "c: 1/════╩═══════╩═\n",
       "         0       0 "
      ]
     },
     "metadata": {},
     "output_type": "display_data"
    },
    {
     "data": {
      "text/html": [
       "<pre style=\"word-wrap: normal;white-space: pre;background: #fff0;line-height: 1.1;font-family: &quot;Courier New&quot;,Courier,monospace\">     ┌───┐ ░ ┌─┐┌─┐\n",
       "  q: ┤ H ├─░─┤M├┤M├\n",
       "     └───┘ ░ └╥┘└╥┘\n",
       "c: 1/═════════╩══╩═\n",
       "              0  0 </pre>"
      ],
      "text/plain": [
       "     ┌───┐ ░ ┌─┐┌─┐\n",
       "  q: ┤ H ├─░─┤M├┤M├\n",
       "     └───┘ ░ └╥┘└╥┘\n",
       "c: 1/═════════╩══╩═\n",
       "              0  0 "
      ]
     },
     "metadata": {},
     "output_type": "display_data"
    },
    {
     "data": {
      "text/html": [
       "<pre style=\"word-wrap: normal;white-space: pre;background: #fff0;line-height: 1.1;font-family: &quot;Courier New&quot;,Courier,monospace\">      ░ ┌───┐┌─┐┌───┐┌─┐\n",
       "  q: ─░─┤ H ├┤M├┤ H ├┤M├\n",
       "      ░ └───┘└╥┘└───┘└╥┘\n",
       "c: 1/═════════╩═══════╩═\n",
       "              0       0 </pre>"
      ],
      "text/plain": [
       "      ░ ┌───┐┌─┐┌───┐┌─┐\n",
       "  q: ─░─┤ H ├┤M├┤ H ├┤M├\n",
       "      ░ └───┘└╥┘└───┘└╥┘\n",
       "c: 1/═════════╩═══════╩═\n",
       "              0       0 "
      ]
     },
     "metadata": {},
     "output_type": "display_data"
    },
    {
     "data": {
      "text/html": [
       "<pre style=\"word-wrap: normal;white-space: pre;background: #fff0;line-height: 1.1;font-family: &quot;Courier New&quot;,Courier,monospace\">     ┌───┐ ░ ┌───┐┌─┐┌───┐┌─┐\n",
       "  q: ┤ X ├─░─┤ H ├┤M├┤ H ├┤M├\n",
       "     └───┘ ░ └───┘└╥┘└───┘└╥┘\n",
       "c: 1/══════════════╩═══════╩═\n",
       "                   0       0 </pre>"
      ],
      "text/plain": [
       "     ┌───┐ ░ ┌───┐┌─┐┌───┐┌─┐\n",
       "  q: ┤ X ├─░─┤ H ├┤M├┤ H ├┤M├\n",
       "     └───┘ ░ └───┘└╥┘└───┘└╥┘\n",
       "c: 1/══════════════╩═══════╩═\n",
       "                   0       0 "
      ]
     },
     "metadata": {},
     "output_type": "display_data"
    },
    {
     "name": "stdout",
     "output_type": "stream",
     "text": [
      "alice_sample = [0, 1, 0, 1, 0, 1, 0, 1, 0, 0, 0, 1, 0, 0, 1, 1, 1, 1, 1, 0, 0, 1, 1, 0, 0]\n",
      "  bob_sample = [0, 0, 0, 1, 0, 1, 1, 1, 0, 1, 1, 1, 1, 0, 1, 0, 0, 1, 1, 1, 0, 1, 1, 0, 0]\n",
      "Interception detected:  True\n"
     ]
    }
   ],
   "source": [
    "eve = 1\n",
    "\n",
    "run(seed, size, sample, display_bit, eve)"
   ]
  }
 ],
 "metadata": {
  "kernelspec": {
   "display_name": "Python 3",
   "language": "python",
   "name": "python3"
  },
  "language_info": {
   "codemirror_mode": {
    "name": "ipython",
    "version": 3
   },
   "file_extension": ".py",
   "mimetype": "text/x-python",
   "name": "python",
   "nbconvert_exporter": "python",
   "pygments_lexer": "ipython3",
   "version": "3.8.6"
  },
  "orig_nbformat": 4
 },
 "nbformat": 4,
 "nbformat_minor": 2
}
